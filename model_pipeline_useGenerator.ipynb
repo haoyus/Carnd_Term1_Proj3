{
 "cells": [
  {
   "cell_type": "code",
   "execution_count": 1,
   "metadata": {},
   "outputs": [
    {
     "name": "stderr",
     "output_type": "stream",
     "text": [
      "Using TensorFlow backend.\n"
     ]
    }
   ],
   "source": [
    "import csv\n",
    "import cv2\n",
    "import numpy as np\n",
    "import tensorflow as tf\n",
    "import keras"
   ]
  },
  {
   "cell_type": "code",
   "execution_count": 2,
   "metadata": {},
   "outputs": [
    {
     "name": "stdout",
     "output_type": "stream",
     "text": [
      "1.2.1\n"
     ]
    }
   ],
   "source": [
    "print(keras.__version__)"
   ]
  },
  {
   "cell_type": "code",
   "execution_count": 3,
   "metadata": {
    "collapsed": true
   },
   "outputs": [],
   "source": [
    "from keras.models import Sequential\n",
    "from keras.layers import Flatten, Dense, Lambda, Cropping2D\n",
    "from keras.layers.convolutional import Convolution2D\n",
    "from keras.layers.pooling import MaxPooling2D\n",
    "from random import shuffle\n",
    "import sklearn"
   ]
  },
  {
   "cell_type": "code",
   "execution_count": 4,
   "metadata": {
    "collapsed": true
   },
   "outputs": [],
   "source": [
    "lines = []"
   ]
  },
  {
   "cell_type": "code",
   "execution_count": 5,
   "metadata": {
    "collapsed": true
   },
   "outputs": [],
   "source": [
    "with open('C:\\Anaconda3\\envs\\CarND-Behavioral-Cloning-P3\\Rec_Data\\driving_log.csv') as csvfile:\n",
    "    reader = csv.reader(csvfile)\n",
    "    for line in reader:\n",
    "        lines.append(line)"
   ]
  },
  {
   "cell_type": "code",
   "execution_count": 6,
   "metadata": {
    "collapsed": true
   },
   "outputs": [],
   "source": [
    "from sklearn.model_selection import train_test_split\n",
    "train_samples, validation_samples = train_test_split(lines, test_size=0.2)"
   ]
  },
  {
   "cell_type": "code",
   "execution_count": 7,
   "metadata": {
    "collapsed": true
   },
   "outputs": [],
   "source": [
    "def generator(samples, batch_size=32):\n",
    "    correction = 0.15\n",
    "    num_samples = len(samples)\n",
    "    while 1:\n",
    "        shuffle(samples)\n",
    "        for offset in range(0,num_samples,batch_size):\n",
    "            batch_samples = samples[offset:offset+batch_size]\n",
    "            images = []\n",
    "            measurements = []\n",
    "            augmented_images, augmented_measurements = [], []\n",
    "            for batch_sample in batch_samples:\n",
    "                for i in range(3):\n",
    "                    source_path = batch_sample[i]\n",
    "                    filename = source_path.split(\"\\\\\")[-1]\n",
    "                    current_path = 'C:\\\\Anaconda3\\\\envs\\\\CarND-Behavioral-Cloning-P3\\\\Rec_Data\\\\IMG\\\\' + filename\n",
    "                    image = cv2.cvtColor(cv2.imread(current_path),cv2.COLOR_BGR2RGB)\n",
    "                    if i==0:\n",
    "                        measurement = float(batch_sample[3])\n",
    "                    elif i==1:\n",
    "                        measurement = float(batch_sample[3]) + correction\n",
    "                    elif i==2:\n",
    "                        measurement = float(batch_sample[3]) - correction\n",
    "                    images.append(image)\n",
    "                    measurements.append(measurement)\n",
    "            for image, measurement in zip(images, measurements):\n",
    "                augmented_images.append(image)\n",
    "                augmented_measurements.append(measurement)\n",
    "                augmented_images.append(cv2.flip(image,1))\n",
    "                augmented_measurements.append(measurement*-1.0)\n",
    "            X_train = np.array(images)\n",
    "            y_train = np.array(measurements)\n",
    "            yield sklearn.utils.shuffle(X_train,y_train)"
   ]
  },
  {
   "cell_type": "code",
   "execution_count": 8,
   "metadata": {
    "collapsed": true
   },
   "outputs": [],
   "source": [
    "train_generator = generator(train_samples, batch_size=32)\n",
    "validation_generator = generator(validation_samples, batch_size=32)"
   ]
  },
  {
   "cell_type": "markdown",
   "metadata": {
    "collapsed": true
   },
   "source": [
    "#model = Sequential()\n",
    "#model.add(Lambda(lambda x: (x/255.0)-0.5, input_shape=(160,320,3)))\n",
    "#model.add(Flatten(input_shape=(160,320,3)))\n",
    "#model.add(Dense(1))\n",
    "\n",
    "model = Sequential()\n",
    "model.add(Lambda(lambda x: (x/255.0)-0.5, input_shape=(160,320,3)))\n",
    "model.add(Convolution2D(28,5,5,activation='relu',input_shape=(160,320,3) ))\n",
    "model.add(MaxPooling2D()) #2x2 stride, valid padding, output size\n",
    "model.add(Convolution2D(16,5,5,activation='relu'))\n",
    "model.add(MaxPooling2D())\n",
    "model.add(Flatten())\n",
    "model.add(Dense(200))\n",
    "#model.add(Dropout(0.5))\n",
    "model.add(Dense(50))\n",
    "model.add(Dense(1))"
   ]
  },
  {
   "cell_type": "code",
   "execution_count": 9,
   "metadata": {
    "collapsed": true
   },
   "outputs": [],
   "source": [
    "model = Sequential()\n",
    "model.add(Lambda(lambda x: (x/255.0)-0.5, input_shape=(160,320,3)))\n",
    "model.add(Cropping2D(cropping=((70,25),(0,0))))\n",
    "model.add(Convolution2D(24,5,5,subsample=(2,2),activation='relu'))\n",
    "model.add(Convolution2D(36,5,5,subsample=(2,2),activation='relu'))\n",
    "model.add(Convolution2D(48,5,5,subsample=(2,2),activation='relu'))\n",
    "model.add(Convolution2D(64,3,3,activation='relu'))\n",
    "model.add(Convolution2D(64,3,3,activation='relu'))\n",
    "model.add(Flatten())\n",
    "model.add(Dense(100))\n",
    "model.add(Dense(50))\n",
    "model.add(Dense(10))\n",
    "model.add(Dense(1))"
   ]
  },
  {
   "cell_type": "code",
   "execution_count": 10,
   "metadata": {
    "collapsed": true
   },
   "outputs": [],
   "source": [
    "model.compile(optimizer='adam', loss='mse')"
   ]
  },
  {
   "cell_type": "code",
   "execution_count": 11,
   "metadata": {},
   "outputs": [
    {
     "name": "stdout",
     "output_type": "stream",
     "text": [
      "Epoch 1/3\n",
      "7200/7200 [==============================] - 19s - loss: 0.0215 - val_loss: 0.0171\n",
      "Epoch 2/3\n",
      "7200/7200 [==============================] - 16s - loss: 0.0156 - val_loss: 0.0157\n",
      "Epoch 3/3\n",
      "7200/7200 [==============================] - 16s - loss: 0.0165 - val_loss: 0.0159\n"
     ]
    },
    {
     "data": {
      "text/plain": [
       "<keras.callbacks.History at 0x1c5f1828>"
      ]
     },
     "execution_count": 11,
     "metadata": {},
     "output_type": "execute_result"
    }
   ],
   "source": [
    "model.fit_generator(train_generator, samples_per_epoch=7200,validation_data=validation_generator,nb_val_samples=1792, nb_epoch=3)"
   ]
  },
  {
   "cell_type": "code",
   "execution_count": 12,
   "metadata": {
    "collapsed": true
   },
   "outputs": [],
   "source": [
    "model.save('model_use_gen.h5')"
   ]
  },
  {
   "cell_type": "code",
   "execution_count": null,
   "metadata": {
    "collapsed": true
   },
   "outputs": [],
   "source": []
  }
 ],
 "metadata": {
  "kernelspec": {
   "display_name": "Python [conda env:carnd-term1]",
   "language": "python",
   "name": "conda-env-carnd-term1-py"
  },
  "language_info": {
   "codemirror_mode": {
    "name": "ipython",
    "version": 3
   },
   "file_extension": ".py",
   "mimetype": "text/x-python",
   "name": "python",
   "nbconvert_exporter": "python",
   "pygments_lexer": "ipython3",
   "version": "3.5.2"
  },
  "widgets": {
   "state": {},
   "version": "1.1.2"
  }
 },
 "nbformat": 4,
 "nbformat_minor": 2
}
